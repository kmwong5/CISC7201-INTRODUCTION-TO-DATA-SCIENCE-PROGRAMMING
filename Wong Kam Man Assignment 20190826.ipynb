{
 "cells": [
  {
   "cell_type": "code",
   "execution_count": 36,
   "metadata": {},
   "outputs": [
    {
     "name": "stdout",
     "output_type": "stream",
     "text": [
      "Give me your name:Wong Kam Man\n",
      "Enter your Age34\n",
      "Wong Kam Man You will turn 100 years old in 2085\n"
     ]
    }
   ],
   "source": [
    "#Exercise 1\n",
    "\n",
    "name = input(\"Give me your name:\")\n",
    "age = input(\"Enter your Age\")\n",
    "convertedInt = int(age)\n",
    "year = 100 - convertedInt + 2019\n",
    "print (name + \" \" + 'You will turn 100 years old in' + \" \" + str(year))"
   ]
  },
  {
   "cell_type": "code",
   "execution_count": 38,
   "metadata": {},
   "outputs": [
    {
     "name": "stdout",
     "output_type": "stream",
     "text": [
      "Enter a number: 10\n",
      "10 is Even number\n"
     ]
    }
   ],
   "source": [
    "#Exercise 2\n",
    "num = int(input(\"Enter a number: \"))  \n",
    "if (num % 2) == 0:  \n",
    "   print(\"{0} is Even number\".format(num))  \n",
    "else:  \n",
    "   print(\"{0} is Odd number\".format(num))  "
   ]
  },
  {
   "cell_type": "code",
   "execution_count": 42,
   "metadata": {},
   "outputs": [
    {
     "name": "stdout",
     "output_type": "stream",
     "text": [
      "1 1 2 3 5 "
     ]
    }
   ],
   "source": [
    "#Exercise 3\n",
    "# list of numbers \n",
    "a = [1, 1, 2, 3, 5, 8, 13, 21, 34, 55, 89]\n",
    "  \n",
    "# iterating each number in list \n",
    "for num in a: \n",
    "      \n",
    "    # checking condition \n",
    "    if num <= 5: \n",
    "       print(num, end = \" \") "
   ]
  },
  {
   "cell_type": "code",
   "execution_count": 44,
   "metadata": {},
   "outputs": [
    {
     "name": "stdout",
     "output_type": "stream",
     "text": [
      "Enter an integer:10\n",
      "The divisors of the number are:\n",
      "1\n",
      "2\n",
      "5\n",
      "10\n"
     ]
    }
   ],
   "source": [
    "#Exercise 4\n",
    "n=int(input(\"Enter an integer:\"))\n",
    "print(\"The divisors of the number are:\")\n",
    "for i in range(1,n+1):\n",
    "    if(n%i==0):\n",
    "        print(i)"
   ]
  },
  {
   "cell_type": "code",
   "execution_count": 57,
   "metadata": {},
   "outputs": [
    {
     "name": "stdout",
     "output_type": "stream",
     "text": [
      "[89, 34, 21, 55]\n"
     ]
    }
   ],
   "source": [
    "# Python code to get difference of two lists \n",
    "# Using set() \n",
    "def Diff(li1, li2): \n",
    "    return (list(set(li1) - set(li2))) \n",
    "  \n",
    "# Driver Code \n",
    "li1 = [1, 1, 2, 3, 5, 8, 13, 21, 34, 55, 89]\n",
    "li2 = [1, 2, 3, 4, 5, 6, 7, 8, 9, 10, 11, 12, 13]\n",
    "print(Diff(li1, li2))"
   ]
  },
  {
   "cell_type": "code",
   "execution_count": 61,
   "metadata": {},
   "outputs": [
    {
     "name": "stdout",
     "output_type": "stream",
     "text": [
      "[1, 2, 3, 5, 8, 13]\n"
     ]
    }
   ],
   "source": [
    "#Exercise 5\n",
    "# Python code to get difference of two lists \n",
    "# Using set() \n",
    "def Common(li1, li2): \n",
    "    return (list(set(li1) & set(li2))) \n",
    "  \n",
    "# Driver Code \n",
    "li1 = [1, 1, 2, 3, 5, 8, 13, 21, 34, 55, 89]\n",
    "li2 = [1, 2, 3, 4, 5, 6, 7, 8, 9, 10, 11, 12, 13]\n",
    "print(Common(li1, li2))"
   ]
  },
  {
   "cell_type": "code",
   "execution_count": 65,
   "metadata": {},
   "outputs": [
    {
     "name": "stdout",
     "output_type": "stream",
     "text": [
      "Give me your name:man\n",
      "No\n"
     ]
    }
   ],
   "source": [
    "#Exercise 6\n",
    "# function which return reverse of a string \n",
    "def reverse(s): \n",
    "    return s[::-1] \n",
    "  \n",
    "def isPalindrome(s): \n",
    "    # Calling reverse function \n",
    "    rev = reverse(s) \n",
    "  \n",
    "    # Checking if both string are equal or not \n",
    "    if (s == rev): \n",
    "        return True\n",
    "    return False\n",
    "  \n",
    "  \n",
    "# Driver code \n",
    "s = input(\"Give me your name:\")\n",
    "ans = isPalindrome(s) \n",
    "  \n",
    "if ans == 1: \n",
    "    print(\"Yes\") \n",
    "else: \n",
    "    print(\"No\") "
   ]
  }
 ],
 "metadata": {
  "kernelspec": {
   "display_name": "Python 3",
   "language": "python",
   "name": "python3"
  },
  "language_info": {
   "codemirror_mode": {
    "name": "ipython",
    "version": 3
   },
   "file_extension": ".py",
   "mimetype": "text/x-python",
   "name": "python",
   "nbconvert_exporter": "python",
   "pygments_lexer": "ipython3",
   "version": "3.7.3"
  }
 },
 "nbformat": 4,
 "nbformat_minor": 2
}
